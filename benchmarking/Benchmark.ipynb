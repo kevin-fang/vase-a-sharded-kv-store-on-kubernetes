{
 "cells": [
  {
   "cell_type": "code",
   "execution_count": null,
   "id": "6bc6a3bb",
   "metadata": {},
   "outputs": [],
   "source": [
    "from google.oauth2 import service_account\n",
    "from google.cloud.container_v1 import ClusterManagerClient\n",
    "from kubernetes import client, config, utils\n",
    "import google.auth.transport.requests\n",
    "import yaml\n",
    "import time\n",
    "import os\n",
    "import urllib3\n",
    "urllib3.disable_warnings(urllib3.exceptions.InsecureRequestWarning)\n",
    "\n",
    "project_id = \"etcd-clusters\"\n",
    "zone = \"us-central1-c\"\n",
    "cluster_id = \"etcd-scaling-testing-cluster\"\n",
    "SCOPES = ['https://www.googleapis.com/auth/cloud-platform']\n",
    "credentials = service_account.Credentials.from_service_account_file(\n",
    "    \"../keys/compsci-512-svc-account.json\", scopes=SCOPES)\n",
    "request = google.auth.transport.requests.Request()\n",
    "credentials.refresh(request)\n",
    "cluster_manager_client = ClusterManagerClient(credentials=credentials)\n",
    "cluster = cluster_manager_client.get_cluster(\n",
    "    project_id=project_id, zone=zone, cluster_id=cluster_id)\n",
    "configuration = client.Configuration()\n",
    "configuration.host = \"https://\"+cluster.endpoint+\":443\"\n",
    "configuration.verify_ssl = False\n",
    "configuration.api_key = {\"authorization\": \"Bearer \" + credentials.token}\n",
    "client.Configuration.set_default(configuration)\n",
    "v1 = client.CoreV1Api()\n",
    "k8sClient = client.ApiClient()\n",
    "api = client.AppsV1Api(k8sClient)"
   ]
  },
  {
   "cell_type": "code",
   "execution_count": null,
   "id": "6b3bf3df",
   "metadata": {},
   "outputs": [],
   "source": [
    "def delete_shard(instance_num, num_replicas_per_set):\n",
    "    for i in range(num_replicas_per_set + 1):\n",
    "        res_i = v1.delete_namespaced_pod(namespace=\"default\", name=f\"etcd-{instance_num}-{i}\")\n",
    "        print(f\"Deleted etcd-{instance_num}-{i}\")\n",
    "    res_4 = api.delete_namespaced_stateful_set(name=f\"etcd-{instance_num}\", namespace=\"default\")\n",
    "    res_5 = v1.delete_namespaced_persistent_volume_claim(f\"data-{instance_num}-etcd-{instance_num}-0\", namespace=\"default\")\n",
    "    res_6 = v1.delete_namespaced_persistent_volume_claim(f\"data-{instance_num}-etcd-{instance_num}-1\", namespace=\"default\")\n",
    "    res_7 = v1.delete_namespaced_persistent_volume_claim(f\"data-{instance_num}-etcd-{instance_num}-2\", namespace=\"default\")\n",
    "    res_8 = v1.delete_namespaced_service(name=f\"etcd-{instance_num}\", namespace=\"default\")\n",
    "    res_9 = v1.delete_namespaced_service(name=f\"etcd-client-{instance_num}\", namespace=\"default\")\n",
    "    print(f\"Successfully deleted shard {instance_num}\")"
   ]
  },
  {
   "cell_type": "code",
   "execution_count": null,
   "id": "133177df",
   "metadata": {},
   "outputs": [],
   "source": [
    "def delete_sharder():\n",
    "    pods = v1.list_pod_for_all_namespaces(watch=False)\n",
    "    sharder_name = \"\"\n",
    "    for i in pods.items:\n",
    "        if \"sharder\" in i.metadata.name:\n",
    "            sharder_name = i.metadata.name\n",
    "    print(f\"Sharder name: {sharder_name}\")\n",
    "    try:\n",
    "        res_1 = v1.delete_namespaced_pod(namespace=\"default\", name=sharder_name)\n",
    "        res_2 = api.delete_namespaced_deployment(name=f\"etcd-sharder\", namespace=\"default\")\n",
    "        res_3 = v1.delete_namespaced_service(name=f\"sharder-endpoint\", namespace=\"default\")\n",
    "        print(\"Successfully deleted sharder\")\n",
    "    except client.ApiException:\n",
    "        print(f\"Skipping deletion of sharder\")"
   ]
  },
  {
   "cell_type": "code",
   "execution_count": null,
   "id": "b6cf503e",
   "metadata": {},
   "outputs": [],
   "source": [
    "def generate_deployments(num_shards, num_replicas):\n",
    "    # always 3 replicas per statefulset (\"highly available\")\n",
    "    # instance num always 1\n",
    "    os.system(f\"cd .. && python generate_deployment_files.py {num_shards} 3 1 {num_replicas}\")"
   ]
  },
  {
   "cell_type": "code",
   "execution_count": null,
   "id": "71622776",
   "metadata": {},
   "outputs": [],
   "source": [
    "def deploy(filename):\n",
    "    k8sClient = client.ApiClient()\n",
    "    api = client.AppsV1Api(k8sClient)\n",
    "    deployment_path = \"../deployment_files/\" + filename\n",
    "    f = open(deployment_path)\n",
    "    try:\n",
    "        response = utils.create_from_yaml(k8sClient, deployment_path)\n",
    "        print(f\"Deployed {deployment_path}\")\n",
    "    except ValueError as e:\n",
    "        print(e)\n",
    "    \n",
    "def deploy_etcd_shard(instance_num):\n",
    "    deploy(f\"etcd-deployment-{instance_num}.yaml\")"
   ]
  },
  {
   "cell_type": "code",
   "execution_count": null,
   "id": "4f457d44",
   "metadata": {
    "scrolled": true
   },
   "outputs": [],
   "source": [
    "print(\"Listing pods with their IPs:\")\n",
    "pods = v1.list_pod_for_all_namespaces(watch=False)\n",
    "instances = set()\n",
    "num_replicas_per_set = 1\n",
    "for i in pods.items:\n",
    "    if i.metadata.namespace == \"default\":\n",
    "        print(\"%s\\t%s\\t%s\" %\n",
    "              (i.status.pod_ip, i.metadata.namespace, i.metadata.name))\n",
    "        inst_num = i.metadata.name.split(\"-\")[1]\n",
    "        replica_num = i.metadata.name.split(\"-\")[2]\n",
    "        if inst_num.isnumeric():\n",
    "            instances.add(int(inst_num))\n",
    "            num_replicas_per_set = max(num_replicas_per_set, int(replica_num))\n",
    "print(instances)\n",
    "print(num_replicas_per_set)"
   ]
  },
  {
   "cell_type": "code",
   "execution_count": null,
   "id": "30b575d8",
   "metadata": {
    "scrolled": true
   },
   "outputs": [],
   "source": [
    "# Take down existing shards\n",
    "for i in list(instances):\n",
    "    try:\n",
    "        delete_shard(i, num_replicas_per_set)\n",
    "    except client.ApiException:\n",
    "        print(f\"Skipping deletion of shard {i}\")\n",
    "delete_sharder()"
   ]
  },
  {
   "cell_type": "code",
   "execution_count": null,
   "id": "62eae4b4",
   "metadata": {},
   "outputs": [],
   "source": [
    "# Generate x sharding deployments\n",
    "NUM_SHARDS = 1\n",
    "NUM_REPLICAS = 50\n",
    "generate_deployments(NUM_SHARDS, NUM_REPLICAS)"
   ]
  },
  {
   "cell_type": "code",
   "execution_count": null,
   "id": "3ac519c0",
   "metadata": {
    "scrolled": false
   },
   "outputs": [],
   "source": [
    "# Deploy sharding deployments\n",
    "deploy(\"sharder-deployment.yaml\")\n",
    "for i in range(1, NUM_SHARDS + 1):\n",
    "    deploy_etcd_shard(i)\n",
    "    print(f\"Deployed etcd shard {i}\")"
   ]
  },
  {
   "cell_type": "code",
   "execution_count": null,
   "id": "aaf1931c",
   "metadata": {},
   "outputs": [],
   "source": [
    "# Find sharder endpoint ip\n",
    "svcs = v1.list_service_for_all_namespaces()\n",
    "sharder_ip = \"\"\n",
    "found = False\n",
    "\n",
    "while not found:\n",
    "    svcs = v1.list_service_for_all_namespaces()\n",
    "    try:\n",
    "        for item in svcs.items:\n",
    "            if item.metadata.name == \"sharder-endpoint\":\n",
    "                sharder_ip = item.status.load_balancer.ingress[0].ip\n",
    "                print(sharder_ip)\n",
    "                found = True\n",
    "    except TypeError:\n",
    "        time.sleep(2)\n",
    "        print(\"Load balancer not found. Waiting...\")"
   ]
  },
  {
   "cell_type": "code",
   "execution_count": null,
   "id": "5537bdd6",
   "metadata": {},
   "outputs": [],
   "source": [
    "# Run benchmark\n",
    "BENCHMARK_NAME = \"3d\"\n",
    "if not os.path.isdir(BENCHMARK_NAME):\n",
    "    os.mkdir(BENCHMARK_NAME)\n",
    "os.system(f\"locust --host http://{sharder_ip}:5000  --headless --csv={BENCHMARK_NAME}/results -u 500 -r 50 --run-time 5m --html={BENCHMARK_NAME}/results_{BENCHMARK_NAME}.html\")"
   ]
  },
  {
   "cell_type": "code",
   "execution_count": null,
   "id": "65e1d85f",
   "metadata": {},
   "outputs": [],
   "source": [
    "# Close everything and redo"
   ]
  },
  {
   "cell_type": "code",
   "execution_count": null,
   "id": "76aac454",
   "metadata": {},
   "outputs": [],
   "source": []
  }
 ],
 "metadata": {
  "kernelspec": {
   "display_name": "Python 3 (ipykernel)",
   "language": "python",
   "name": "python3"
  },
  "language_info": {
   "codemirror_mode": {
    "name": "ipython",
    "version": 3
   },
   "file_extension": ".py",
   "mimetype": "text/x-python",
   "name": "python",
   "nbconvert_exporter": "python",
   "pygments_lexer": "ipython3",
   "version": "3.9.7"
  }
 },
 "nbformat": 4,
 "nbformat_minor": 5
}
