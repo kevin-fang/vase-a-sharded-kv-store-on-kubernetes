{
 "cells": [
  {
   "cell_type": "code",
   "execution_count": 31,
   "id": "2244e3f5",
   "metadata": {},
   "outputs": [],
   "source": [
    "import pandas as pd\n",
    "import numpy as np"
   ]
  },
  {
   "cell_type": "code",
   "execution_count": 32,
   "id": "00c63dff",
   "metadata": {},
   "outputs": [],
   "source": [
    "df = pd.read_csv(\"ip_log.csv\")"
   ]
  },
  {
   "cell_type": "code",
   "execution_count": 33,
   "id": "3373e31d",
   "metadata": {},
   "outputs": [
    {
     "data": {
      "text/html": [
       "<div>\n",
       "<style scoped>\n",
       "    .dataframe tbody tr th:only-of-type {\n",
       "        vertical-align: middle;\n",
       "    }\n",
       "\n",
       "    .dataframe tbody tr th {\n",
       "        vertical-align: top;\n",
       "    }\n",
       "\n",
       "    .dataframe thead th {\n",
       "        text-align: right;\n",
       "    }\n",
       "</style>\n",
       "<table border=\"1\" class=\"dataframe\">\n",
       "  <thead>\n",
       "    <tr style=\"text-align: right;\">\n",
       "      <th></th>\n",
       "      <th>key</th>\n",
       "      <th>value</th>\n",
       "      <th>server_ip</th>\n",
       "    </tr>\n",
       "  </thead>\n",
       "  <tbody>\n",
       "    <tr>\n",
       "      <th>0</th>\n",
       "      <td>41_value_key</td>\n",
       "      <td>value_41939</td>\n",
       "      <td>35.239.13.29:2379</td>\n",
       "    </tr>\n",
       "    <tr>\n",
       "      <th>1</th>\n",
       "      <td>66_value_key</td>\n",
       "      <td>value_66709</td>\n",
       "      <td>34.132.124.6:2379</td>\n",
       "    </tr>\n",
       "    <tr>\n",
       "      <th>2</th>\n",
       "      <td>43_value_key</td>\n",
       "      <td>value_43135</td>\n",
       "      <td>34.132.124.6:2379</td>\n",
       "    </tr>\n",
       "    <tr>\n",
       "      <th>3</th>\n",
       "      <td>93_value_key</td>\n",
       "      <td>value_93173</td>\n",
       "      <td>35.239.13.29:2379</td>\n",
       "    </tr>\n",
       "    <tr>\n",
       "      <th>4</th>\n",
       "      <td>23_value_key</td>\n",
       "      <td>value_23186</td>\n",
       "      <td>34.132.124.6:2379</td>\n",
       "    </tr>\n",
       "    <tr>\n",
       "      <th>...</th>\n",
       "      <td>...</td>\n",
       "      <td>...</td>\n",
       "      <td>...</td>\n",
       "    </tr>\n",
       "    <tr>\n",
       "      <th>38634</th>\n",
       "      <td>38_value_key</td>\n",
       "      <td>value_38467</td>\n",
       "      <td>34.132.124.6:2379</td>\n",
       "    </tr>\n",
       "    <tr>\n",
       "      <th>38635</th>\n",
       "      <td>17_value_key</td>\n",
       "      <td>value_17127</td>\n",
       "      <td>34.132.124.6:2379</td>\n",
       "    </tr>\n",
       "    <tr>\n",
       "      <th>38636</th>\n",
       "      <td>54_value_key</td>\n",
       "      <td>value_54975</td>\n",
       "      <td>34.132.124.6:2379</td>\n",
       "    </tr>\n",
       "    <tr>\n",
       "      <th>38637</th>\n",
       "      <td>29_value_key</td>\n",
       "      <td>value_2938</td>\n",
       "      <td>35.239.13.29:2379</td>\n",
       "    </tr>\n",
       "    <tr>\n",
       "      <th>38638</th>\n",
       "      <td>47_value_key</td>\n",
       "      <td>value_47112</td>\n",
       "      <td>34.132.124.6:2379</td>\n",
       "    </tr>\n",
       "  </tbody>\n",
       "</table>\n",
       "<p>38639 rows × 3 columns</p>\n",
       "</div>"
      ],
      "text/plain": [
       "                key        value          server_ip\n",
       "0      41_value_key  value_41939  35.239.13.29:2379\n",
       "1      66_value_key  value_66709  34.132.124.6:2379\n",
       "2      43_value_key  value_43135  34.132.124.6:2379\n",
       "3      93_value_key  value_93173  35.239.13.29:2379\n",
       "4      23_value_key  value_23186  34.132.124.6:2379\n",
       "...             ...          ...                ...\n",
       "38634  38_value_key  value_38467  34.132.124.6:2379\n",
       "38635  17_value_key  value_17127  34.132.124.6:2379\n",
       "38636  54_value_key  value_54975  34.132.124.6:2379\n",
       "38637  29_value_key   value_2938  35.239.13.29:2379\n",
       "38638  47_value_key  value_47112  34.132.124.6:2379\n",
       "\n",
       "[38639 rows x 3 columns]"
      ]
     },
     "execution_count": 33,
     "metadata": {},
     "output_type": "execute_result"
    }
   ],
   "source": [
    "df"
   ]
  },
  {
   "cell_type": "code",
   "execution_count": 34,
   "id": "0d475c29",
   "metadata": {
    "scrolled": true
   },
   "outputs": [],
   "source": [
    "ips = df['server_ip'].unique()"
   ]
  },
  {
   "cell_type": "code",
   "execution_count": 35,
   "id": "c072096f",
   "metadata": {},
   "outputs": [
    {
     "name": "stdout",
     "output_type": "stream",
     "text": [
      "IP: 35.239.13.29:2379\n",
      "Entries: 11366\n",
      "Keys assigned: ['41_value_key' '93_value_key' '60_value_key' '69_value_key'\n",
      " '29_value_key' '65_value_key' '39_value_key' '13_value_key'\n",
      " '62_value_key' '4_value_key' '26_value_key' '81_value_key' '42_value_key'\n",
      " '44_value_key' '99_value_key' '89_value_key' '10_value_key'\n",
      " '16_value_key' '49_value_key' '63_value_key' '52_value_key'\n",
      " '87_value_key' '31_value_key' '77_value_key' '85_value_key'\n",
      " '57_value_key' '97_value_key' '94_value_key' '20_value_key'\n",
      " '92_value_key']\n",
      "Unique keys: 30\n",
      "IP: 34.132.124.6:2379\n",
      "Entries: 13199\n",
      "Keys assigned: ['66_value_key' '43_value_key' '23_value_key' '3_value_key'\n",
      " '100_value_key' '95_value_key' '15_value_key' '0_value_key' '9_value_key'\n",
      " '37_value_key' '18_value_key' '33_value_key' '61_value_key'\n",
      " '98_value_key' '27_value_key' '12_value_key' '34_value_key'\n",
      " '22_value_key' '47_value_key' '84_value_key' '24_value_key'\n",
      " '38_value_key' '54_value_key' '76_value_key' '25_value_key'\n",
      " '17_value_key' '8_value_key' '83_value_key' '50_value_key' '46_value_key'\n",
      " '68_value_key' '82_value_key' '96_value_key' '35_value_key']\n",
      "Unique keys: 34\n",
      "IP: 35.222.1.226:2379\n",
      "Entries: 14074\n",
      "Keys assigned: ['70_value_key' '11_value_key' '74_value_key' '56_value_key'\n",
      " '58_value_key' '67_value_key' '36_value_key' '32_value_key'\n",
      " '64_value_key' '28_value_key' '59_value_key' '71_value_key'\n",
      " '55_value_key' '19_value_key' '75_value_key' '40_value_key'\n",
      " '45_value_key' '1_value_key' '30_value_key' '78_value_key' '14_value_key'\n",
      " '80_value_key' '5_value_key' '91_value_key' '7_value_key' '79_value_key'\n",
      " '73_value_key' '2_value_key' '6_value_key' '48_value_key' '72_value_key'\n",
      " '90_value_key' '88_value_key' '21_value_key' '86_value_key'\n",
      " '51_value_key' '53_value_key']\n",
      "Unique keys: 37\n"
     ]
    }
   ],
   "source": [
    "for ip in ips:\n",
    "    ip_df = df[df['server_ip'] == ip]\n",
    "    print(\"IP:\", ip)\n",
    "    print(\"Entries:\", ip_df.shape[0])\n",
    "    print(\"Keys assigned:\", ip_df['key'].unique())\n",
    "    print(\"Unique keys:\", ip_df['key'].unique().shape[0])"
   ]
  },
  {
   "cell_type": "code",
   "execution_count": null,
   "id": "7e2003b4",
   "metadata": {},
   "outputs": [],
   "source": []
  }
 ],
 "metadata": {
  "kernelspec": {
   "display_name": "Python 3 (ipykernel)",
   "language": "python",
   "name": "python3"
  },
  "language_info": {
   "codemirror_mode": {
    "name": "ipython",
    "version": 3
   },
   "file_extension": ".py",
   "mimetype": "text/x-python",
   "name": "python",
   "nbconvert_exporter": "python",
   "pygments_lexer": "ipython3",
   "version": "3.9.7"
  }
 },
 "nbformat": 4,
 "nbformat_minor": 5
}
